{
 "cells": [
  {
   "cell_type": "code",
   "execution_count": 154,
   "id": "05494852",
   "metadata": {},
   "outputs": [],
   "source": [
    "import selenium\n",
    "import pandas as pd\n",
    "from selenium import webdriver\n",
    "import warnings\n",
    "warnings.filterwarnings('ignore')\n",
    "from selenium.common.exceptions import StaleElementReferenceException,NoSuchElementException\n",
    "from selenium.webdriver.common.by import By\n",
    "import time"
   ]
  },
  {
   "cell_type": "markdown",
   "id": "1a7c0d11",
   "metadata": {},
   "source": [
    "# Questions-4"
   ]
  },
  {
   "cell_type": "code",
   "execution_count": 155,
   "id": "15ee2ab9",
   "metadata": {},
   "outputs": [],
   "source": [
    "chromeoptions = webdriver.ChromeOptions()\n",
    "#chromeoptions.add_argument(\"--incognito\")\n",
    "driver = webdriver.Chrome(chrome_options =chromeoptions  )\n",
    "driver.get(\"https://www.flipkart.com/\")\n",
    "driver.maximize_window()"
   ]
  },
  {
   "cell_type": "code",
   "execution_count": 156,
   "id": "e7a85039",
   "metadata": {},
   "outputs": [],
   "source": [
    "driver.find_element(By.XPATH,\"/html/body/div[2]/div/div/button\").click()"
   ]
  },
  {
   "cell_type": "code",
   "execution_count": 157,
   "id": "9328cfa6",
   "metadata": {},
   "outputs": [],
   "source": [
    "search = \"Sunglasses\"\n",
    "driver.find_element(By.XPATH,\"/html/body/div[1]/div/div[1]/div[1]/div[2]/div[2]/form/div/div/input\").send_keys(search)"
   ]
  },
  {
   "cell_type": "code",
   "execution_count": 158,
   "id": "f77456c8",
   "metadata": {},
   "outputs": [],
   "source": [
    "driver.find_element(By.XPATH,\"/html/body/div[1]/div/div[1]/div[1]/div[2]/div[2]/form/div/button\").click()"
   ]
  },
  {
   "cell_type": "code",
   "execution_count": 173,
   "id": "2ce8336f",
   "metadata": {},
   "outputs": [],
   "source": [
    "brands=[]\n",
    "prices=[]\n",
    "desc=[]"
   ]
  },
  {
   "cell_type": "code",
   "execution_count": 174,
   "id": "6d3260d7",
   "metadata": {},
   "outputs": [],
   "source": [
    "start=0\n",
    "end=3\n",
    "for a in range(start,end):\n",
    "    br=driver.find_elements(By.XPATH,'//div[@class=\"_2WkVRV\"]')\n",
    "#print(br.text)\n",
    "    for i in br:\n",
    "        bra=i.text\n",
    "        brands.append(bra)\n",
    "    #print(len(brands))\n",
    "        if len(brands)==100:\n",
    "            break\n",
    "    next_button=driver.find_element(By.XPATH,'/html/body/div[1]/div/div[3]/div[1]/div[2]/div[12]/div/div/nav/a[11]')\n",
    "    next_button.click()\n",
    "    time.sleep(3)"
   ]
  },
  {
   "cell_type": "code",
   "execution_count": 175,
   "id": "2da97c86",
   "metadata": {},
   "outputs": [
    {
     "name": "stdout",
     "output_type": "stream",
     "text": [
      "100\n"
     ]
    }
   ],
   "source": [
    "print(len(brands))"
   ]
  },
  {
   "cell_type": "code",
   "execution_count": 176,
   "id": "b4cce01e",
   "metadata": {},
   "outputs": [],
   "source": [
    "start=0\n",
    "end=3\n",
    "for a in range(start,end):\n",
    "    pr=driver.find_elements(By.XPATH,'//div[@class=\"_30jeq3\"]')\n",
    "#print(br.text)\n",
    "    for i in pr:\n",
    "        pri=i.text\n",
    "        prices.append(pri)\n",
    "        if len(prices)==100:\n",
    "            break\n",
    "\n",
    "    next_button=driver.find_element(By.XPATH,'/html/body/div[1]/div/div[3]/div[1]/div[2]/div[12]/div/div/nav/a[11]').click()\n",
    "    time.sleep(3)"
   ]
  },
  {
   "cell_type": "code",
   "execution_count": 177,
   "id": "db815a66",
   "metadata": {},
   "outputs": [
    {
     "name": "stdout",
     "output_type": "stream",
     "text": [
      "100\n"
     ]
    }
   ],
   "source": [
    "print(len(prices))"
   ]
  },
  {
   "cell_type": "code",
   "execution_count": 178,
   "id": "54223156",
   "metadata": {},
   "outputs": [],
   "source": [
    "start=0\n",
    "end=3\n",
    "for a in range(start,end):\n",
    "    des=driver.find_elements(By.XPATH,'//a[@class=\"IRpwTa\"]')\n",
    "#print(br.text)\n",
    "    for i in des:\n",
    "        des=i.text\n",
    "        desc.append(des)\n",
    "    #print(len(brands))\n",
    "        if len(desc)==100:\n",
    "            break\n",
    "\n",
    "    \n",
    "    next_button=driver.find_element(By.XPATH,'/html/body/div[1]/div/div[3]/div[1]/div[2]/div[12]/div/div/nav/a[11]').click()\n",
    "    time.sleep(3)"
   ]
  },
  {
   "cell_type": "code",
   "execution_count": 179,
   "id": "6c35b035",
   "metadata": {},
   "outputs": [
    {
     "name": "stdout",
     "output_type": "stream",
     "text": [
      "100\n"
     ]
    }
   ],
   "source": [
    "print(len(desc))"
   ]
  },
  {
   "cell_type": "code",
   "execution_count": 181,
   "id": "8b967f9d",
   "metadata": {},
   "outputs": [
    {
     "data": {
      "text/html": [
       "<div>\n",
       "<style scoped>\n",
       "    .dataframe tbody tr th:only-of-type {\n",
       "        vertical-align: middle;\n",
       "    }\n",
       "\n",
       "    .dataframe tbody tr th {\n",
       "        vertical-align: top;\n",
       "    }\n",
       "\n",
       "    .dataframe thead th {\n",
       "        text-align: right;\n",
       "    }\n",
       "</style>\n",
       "<table border=\"1\" class=\"dataframe\">\n",
       "  <thead>\n",
       "    <tr style=\"text-align: right;\">\n",
       "      <th></th>\n",
       "      <th>Brands</th>\n",
       "      <th>Prices</th>\n",
       "      <th>Description</th>\n",
       "    </tr>\n",
       "  </thead>\n",
       "  <tbody>\n",
       "    <tr>\n",
       "      <th>0</th>\n",
       "      <td>AISLIN</td>\n",
       "      <td>₹648</td>\n",
       "      <td>Toughened Glass Lens, UV Protection Aviator, W...</td>\n",
       "    </tr>\n",
       "    <tr>\n",
       "      <th>1</th>\n",
       "      <td>ROYAL SON</td>\n",
       "      <td>₹799</td>\n",
       "      <td>Polarized, UV Protection Round Sunglasses (52)</td>\n",
       "    </tr>\n",
       "    <tr>\n",
       "      <th>2</th>\n",
       "      <td>ROYAL SON</td>\n",
       "      <td>₹449</td>\n",
       "      <td>UV Protection Round Sunglasses (Free Size)</td>\n",
       "    </tr>\n",
       "    <tr>\n",
       "      <th>3</th>\n",
       "      <td>Billion</td>\n",
       "      <td>₹229</td>\n",
       "      <td>UV Protection Aviator Sunglasses (57)</td>\n",
       "    </tr>\n",
       "    <tr>\n",
       "      <th>4</th>\n",
       "      <td>elegante</td>\n",
       "      <td>₹431</td>\n",
       "      <td>UV Protection Round Sunglasses (Free Size)</td>\n",
       "    </tr>\n",
       "    <tr>\n",
       "      <th>...</th>\n",
       "      <td>...</td>\n",
       "      <td>...</td>\n",
       "      <td>...</td>\n",
       "    </tr>\n",
       "    <tr>\n",
       "      <th>95</th>\n",
       "      <td>ROZZETTA CRAFT</td>\n",
       "      <td>₹449</td>\n",
       "      <td>UV Protection, Mirrored, Gradient Cat-eye Sung...</td>\n",
       "    </tr>\n",
       "    <tr>\n",
       "      <th>96</th>\n",
       "      <td>PIRASO</td>\n",
       "      <td>₹345</td>\n",
       "      <td>UV Protection, Gradient Retro Square Sunglasse...</td>\n",
       "    </tr>\n",
       "    <tr>\n",
       "      <th>97</th>\n",
       "      <td>NuVew</td>\n",
       "      <td>₹245</td>\n",
       "      <td>UV Protection, Gradient Butterfly, Shield Sung...</td>\n",
       "    </tr>\n",
       "    <tr>\n",
       "      <th>98</th>\n",
       "      <td>PETER JONES</td>\n",
       "      <td>₹629</td>\n",
       "      <td>Polarized, UV Protection Retro Square Sunglass...</td>\n",
       "    </tr>\n",
       "    <tr>\n",
       "      <th>99</th>\n",
       "      <td>ROZZETTA CRAFT</td>\n",
       "      <td>₹399</td>\n",
       "      <td>UV Protection Rectangular Sunglasses (Free Size)</td>\n",
       "    </tr>\n",
       "  </tbody>\n",
       "</table>\n",
       "<p>100 rows × 3 columns</p>\n",
       "</div>"
      ],
      "text/plain": [
       "            Brands Prices                                        Description\n",
       "0           AISLIN   ₹648  Toughened Glass Lens, UV Protection Aviator, W...\n",
       "1        ROYAL SON   ₹799     Polarized, UV Protection Round Sunglasses (52)\n",
       "2        ROYAL SON   ₹449         UV Protection Round Sunglasses (Free Size)\n",
       "3          Billion   ₹229              UV Protection Aviator Sunglasses (57)\n",
       "4         elegante   ₹431         UV Protection Round Sunglasses (Free Size)\n",
       "..             ...    ...                                                ...\n",
       "95  ROZZETTA CRAFT   ₹449  UV Protection, Mirrored, Gradient Cat-eye Sung...\n",
       "96          PIRASO   ₹345  UV Protection, Gradient Retro Square Sunglasse...\n",
       "97           NuVew   ₹245  UV Protection, Gradient Butterfly, Shield Sung...\n",
       "98     PETER JONES   ₹629  Polarized, UV Protection Retro Square Sunglass...\n",
       "99  ROZZETTA CRAFT   ₹399   UV Protection Rectangular Sunglasses (Free Size)\n",
       "\n",
       "[100 rows x 3 columns]"
      ]
     },
     "execution_count": 181,
     "metadata": {},
     "output_type": "execute_result"
    }
   ],
   "source": [
    "\n",
    "df = pd.DataFrame({\"Brands\":brands,\"Prices\":prices,\"Description\":desc})\n",
    "df"
   ]
  },
  {
   "cell_type": "markdown",
   "id": "c4fe8d6a",
   "metadata": {},
   "source": [
    " # QUESTION-5"
   ]
  },
  {
   "cell_type": "code",
   "execution_count": 340,
   "id": "95499091",
   "metadata": {},
   "outputs": [],
   "source": [
    "chromeoptions = webdriver.ChromeOptions()\n",
    "#chromeoptions.add_argument(\"--incognito\")\n",
    "driver = webdriver.Chrome(chrome_options =chromeoptions  )\n",
    "driver.get(\"https://www.flipkart.com/apple-iphone-13-blue-128-gb/p/itm6c601e0a58b3c?pid=MOBG6VF5SMXPNQHG&lid=LSTMOBG6VF5SMXPNQHGH3DY6Z&marketplace=FLIPKART&q=iphone+13&store=tyy%2F4io&srno=s_1_1&otracker=search&otracker1=search&fm=organic&iid=205d3479-f0dd-404e-ae61-51a0e1170734.MOBG6VF5SMXPNQHG.SEARCH&ppt=hp&ppn=homepage&ssid=ygfxyw7y4w0000001677243908534&qH=c68a3b83214bb235\")\n",
    "driver.maximize_window()"
   ]
  },
  {
   "cell_type": "code",
   "execution_count": 341,
   "id": "f0fd2eb9",
   "metadata": {},
   "outputs": [],
   "source": [
    "driver.find_element(By.XPATH,'/html/body/div[1]/div/div[3]/div[1]/div[2]/div[9]/div[7]/div/a/div').click()"
   ]
  },
  {
   "cell_type": "code",
   "execution_count": 342,
   "id": "73b0aaa2",
   "metadata": {},
   "outputs": [],
   "source": [
    "ratings=[]\n",
    "reviews=[]"
   ]
  },
  {
   "cell_type": "code",
   "execution_count": 336,
   "id": "e3bff108",
   "metadata": {},
   "outputs": [],
   "source": [
    "s=0\n",
    "e=15\n",
    "for a in range(s,e):\n",
    "    rat=driver.find_elements(By.XPATH,'//p[@class=\"_2-N8zT\"]')\n",
    "    for i in rat:\n",
    "        rate=i.text\n",
    "        ratings.append(rate)\n",
    "        if len(ratings)==100:\n",
    "            break\n",
    "    if len(ratings)==100:\n",
    "            break \n",
    "    next_button=driver.find_element(By.XPATH,'//a[@class=\"_1LKTO3\"]')\n",
    "    next_button.click()#there is a mistake in here.Once click on the next it moves to 2nd page but in second click it moves to 10th page and in third click it moves to 15th page.\n",
    "    time.sleep(3)         "
   ]
  },
  {
   "cell_type": "code",
   "execution_count": 337,
   "id": "4b9fb17b",
   "metadata": {},
   "outputs": [
    {
     "name": "stdout",
     "output_type": "stream",
     "text": [
      "100\n"
     ]
    }
   ],
   "source": [
    "print(len(ratings))"
   ]
  },
  {
   "cell_type": "code",
   "execution_count": 269,
   "id": "54a41e98",
   "metadata": {},
   "outputs": [],
   "source": [
    "s=0\n",
    "e=15\n",
    "for a in range(s,e):\n",
    "    rev=driver.find_elements(By.XPATH,'//div[@class=\"t-ZTKy\"]')\n",
    "    for i in rev:\n",
    "        revi=i.text\n",
    "        reviews.append(revi)\n",
    "        if len(reviews)==100:\n",
    "            break\n",
    "    if len(reviews)==100:\n",
    "            break \n",
    "next_button=driver.find_element(By.XPATH,'/html/body/div/div/div[3]/div/div/div[2]/div[13]/div/div/nav/a[11]')\n",
    "next_button.click()#there is a mistake in here.Once click on the next it moves to 2nd page but in second click it moves to 10th page and in third click it moves to 15th page.\n",
    "time.sleep(3) "
   ]
  },
  {
   "cell_type": "code",
   "execution_count": 270,
   "id": "c9c168db",
   "metadata": {},
   "outputs": [
    {
     "name": "stdout",
     "output_type": "stream",
     "text": [
      "100\n"
     ]
    }
   ],
   "source": [
    "print(len(reviews))"
   ]
  },
  {
   "cell_type": "code",
   "execution_count": 271,
   "id": "c1a7cb1a",
   "metadata": {},
   "outputs": [
    {
     "data": {
      "text/html": [
       "<div>\n",
       "<style scoped>\n",
       "    .dataframe tbody tr th:only-of-type {\n",
       "        vertical-align: middle;\n",
       "    }\n",
       "\n",
       "    .dataframe tbody tr th {\n",
       "        vertical-align: top;\n",
       "    }\n",
       "\n",
       "    .dataframe thead th {\n",
       "        text-align: right;\n",
       "    }\n",
       "</style>\n",
       "<table border=\"1\" class=\"dataframe\">\n",
       "  <thead>\n",
       "    <tr style=\"text-align: right;\">\n",
       "      <th></th>\n",
       "      <th>Ratings</th>\n",
       "      <th>Reviews</th>\n",
       "    </tr>\n",
       "  </thead>\n",
       "  <tbody>\n",
       "    <tr>\n",
       "      <th>0</th>\n",
       "      <td>Excellent</td>\n",
       "      <td>I upgraded to 13 from xs and my experience wit...</td>\n",
       "    </tr>\n",
       "    <tr>\n",
       "      <th>1</th>\n",
       "      <td>Perfect product!</td>\n",
       "      <td>Awesome battery backup amazing camera, a all d...</td>\n",
       "    </tr>\n",
       "    <tr>\n",
       "      <th>2</th>\n",
       "      <td>Brilliant</td>\n",
       "      <td>I switch to ios from android after 10 years so...</td>\n",
       "    </tr>\n",
       "    <tr>\n",
       "      <th>3</th>\n",
       "      <td>Fabulous!</td>\n",
       "      <td>Amazing beast....\\nAs expected , didn't disapp...</td>\n",
       "    </tr>\n",
       "    <tr>\n",
       "      <th>4</th>\n",
       "      <td>Fabulous!</td>\n",
       "      <td>Picture quality is amazing you do not need to ...</td>\n",
       "    </tr>\n",
       "    <tr>\n",
       "      <th>...</th>\n",
       "      <td>...</td>\n",
       "      <td>...</td>\n",
       "    </tr>\n",
       "    <tr>\n",
       "      <th>95</th>\n",
       "      <td>Must buy!</td>\n",
       "      <td>Just upgraded from 11 to iPhone 13 ..cinematic...</td>\n",
       "    </tr>\n",
       "    <tr>\n",
       "      <th>96</th>\n",
       "      <td>Perfect product!</td>\n",
       "      <td>Awesome camera\\nAmazing battery life\\nSuper xd...</td>\n",
       "    </tr>\n",
       "    <tr>\n",
       "      <th>97</th>\n",
       "      <td>Simply awesome</td>\n",
       "      <td>Just love it ❤️\\nCamera is good\\nNight mode is...</td>\n",
       "    </tr>\n",
       "    <tr>\n",
       "      <th>98</th>\n",
       "      <td>Must buy!</td>\n",
       "      <td>Performance very good\\nDisplay very good\\nBatt...</td>\n",
       "    </tr>\n",
       "    <tr>\n",
       "      <th>99</th>\n",
       "      <td>Brilliant</td>\n",
       "      <td>Very impressed with this order.. i phone 13 be...</td>\n",
       "    </tr>\n",
       "  </tbody>\n",
       "</table>\n",
       "<p>100 rows × 2 columns</p>\n",
       "</div>"
      ],
      "text/plain": [
       "             Ratings                                            Reviews\n",
       "0          Excellent  I upgraded to 13 from xs and my experience wit...\n",
       "1   Perfect product!  Awesome battery backup amazing camera, a all d...\n",
       "2          Brilliant  I switch to ios from android after 10 years so...\n",
       "3          Fabulous!  Amazing beast....\\nAs expected , didn't disapp...\n",
       "4          Fabulous!  Picture quality is amazing you do not need to ...\n",
       "..               ...                                                ...\n",
       "95         Must buy!  Just upgraded from 11 to iPhone 13 ..cinematic...\n",
       "96  Perfect product!  Awesome camera\\nAmazing battery life\\nSuper xd...\n",
       "97    Simply awesome  Just love it ❤️\\nCamera is good\\nNight mode is...\n",
       "98         Must buy!  Performance very good\\nDisplay very good\\nBatt...\n",
       "99         Brilliant  Very impressed with this order.. i phone 13 be...\n",
       "\n",
       "[100 rows x 2 columns]"
      ]
     },
     "execution_count": 271,
     "metadata": {},
     "output_type": "execute_result"
    }
   ],
   "source": [
    "df5=pd.DataFrame({\"Ratings\":ratings,\"Reviews\":reviews})\n",
    "df5"
   ]
  },
  {
   "cell_type": "code",
   "execution_count": 272,
   "id": "a76b6004",
   "metadata": {},
   "outputs": [
    {
     "name": "stdout",
     "output_type": "stream",
     "text": [
      "['I upgraded to 13 from xs and my experience with this had been extraordinary . The user interface and the camera is too good .Just in love with this extraordinary device .I just shared some photos clicked from this phone so that everyone can have an idea about how good the camera is compared all other flagship devices . The lens inside the device is so efficient that it automatically reduces the noise in the picture making it very crisp and clear .', 'Awesome battery backup amazing camera, a all day batter backup improved and brilliant IOs 16.1 oled display dolby speakers and lot more, just close your eyes and go for it. One of the best handy smartphones ever and in great discount given by flipkart in big billion days 🔥', 'I switch to ios from android after 10 years so this review might help for migrators\\n\\nIt’s been a month using the iPhone13 and this was my experience\\n\\n1. Design - its simple and no nonsense design . Expect white and pink rest of the colours are fingerprint magnets. I have seen all the colours and I highly recommend the pink . It’s so light pink which makes it not girlish. See it for yourself it really looks so premium in light pink colour.\\n\\nFor rest of it except white the aluminium frame wil...\\nREAD MORE', \"Amazing beast....\\nAs expected , didn't disappoint me,\\nHad to sell hard chunk of kidneys to get it !!;p\\nCamera quality is definitely a super upgrade\\nBattery is super.. easily last throughout the day with heavy usage.\\nLight weight looks stylish what else you need??\\nStarlight color just wow!!!\\nApple it would have been better if you should have given an adaptor. Increase 2k price and give it in box!!!\\nSimple ....\\nEdit 1 : After 14 days of usage highly satisfied with battery performance, Last thr...\\nREAD MORE\", 'Picture quality is amazing you do not need to think twice about buying this for performance and photos, just go for it. Bionic A 15 is super fast and it has amazing performance,\\nIt is specially good for gaming although battery backup is not that good if you are a heavy user,\\nBut if you are a light or medium user it will give you battery backup of whole day in one charge.', 'Just upgraded from 11 to iPhone 13 ..cinematic mode video awesome camera awesome display awesome\\nLooks A1 battery life is also good.\\nNew filter mode in camera added', 'Awesome camera\\nAmazing battery life\\nSuper xdr display is 💕👌🏻\\nPlaying games and day to day task are smooth\\nFace ID is superb\\niOS 15 is really awesome 🤩 thanks to Apple', 'Just love it ❤️\\nCamera is good\\nNight mode is killer\\nPerformance and display is best\\nFace id is very fast\\nLooks very premium in hand\\nJust go for it without thinking too much !', 'Performance very good\\nDisplay very good\\nBattery good\\nLook very good', 'Very impressed with this order.. i phone 13 best in class , awsm camera quality, fastest in speed,\\nVery happy with my product', 'I upgraded to 13 from xs and my experience with this had been extraordinary . The user interface and the camera is too good .Just in love with this extraordinary device .I just shared some photos clicked from this phone so that everyone can have an idea about how good the camera is compared all other flagship devices . The lens inside the device is so efficient that it automatically reduces the noise in the picture making it very crisp and clear .', 'Awesome battery backup amazing camera, a all day batter backup improved and brilliant IOs 16.1 oled display dolby speakers and lot more, just close your eyes and go for it. One of the best handy smartphones ever and in great discount given by flipkart in big billion days 🔥', 'I switch to ios from android after 10 years so this review might help for migrators\\n\\nIt’s been a month using the iPhone13 and this was my experience\\n\\n1. Design - its simple and no nonsense design . Expect white and pink rest of the colours are fingerprint magnets. I have seen all the colours and I highly recommend the pink . It’s so light pink which makes it not girlish. See it for yourself it really looks so premium in light pink colour.\\n\\nFor rest of it except white the aluminium frame wil...\\nREAD MORE', \"Amazing beast....\\nAs expected , didn't disappoint me,\\nHad to sell hard chunk of kidneys to get it !!;p\\nCamera quality is definitely a super upgrade\\nBattery is super.. easily last throughout the day with heavy usage.\\nLight weight looks stylish what else you need??\\nStarlight color just wow!!!\\nApple it would have been better if you should have given an adaptor. Increase 2k price and give it in box!!!\\nSimple ....\\nEdit 1 : After 14 days of usage highly satisfied with battery performance, Last thr...\\nREAD MORE\", 'Picture quality is amazing you do not need to think twice about buying this for performance and photos, just go for it. Bionic A 15 is super fast and it has amazing performance,\\nIt is specially good for gaming although battery backup is not that good if you are a heavy user,\\nBut if you are a light or medium user it will give you battery backup of whole day in one charge.', 'Just upgraded from 11 to iPhone 13 ..cinematic mode video awesome camera awesome display awesome\\nLooks A1 battery life is also good.\\nNew filter mode in camera added', 'Awesome camera\\nAmazing battery life\\nSuper xdr display is 💕👌🏻\\nPlaying games and day to day task are smooth\\nFace ID is superb\\niOS 15 is really awesome 🤩 thanks to Apple', 'Just love it ❤️\\nCamera is good\\nNight mode is killer\\nPerformance and display is best\\nFace id is very fast\\nLooks very premium in hand\\nJust go for it without thinking too much !', 'Performance very good\\nDisplay very good\\nBattery good\\nLook very good', 'Very impressed with this order.. i phone 13 best in class , awsm camera quality, fastest in speed,\\nVery happy with my product', 'I upgraded to 13 from xs and my experience with this had been extraordinary . The user interface and the camera is too good .Just in love with this extraordinary device .I just shared some photos clicked from this phone so that everyone can have an idea about how good the camera is compared all other flagship devices . The lens inside the device is so efficient that it automatically reduces the noise in the picture making it very crisp and clear .', 'Awesome battery backup amazing camera, a all day batter backup improved and brilliant IOs 16.1 oled display dolby speakers and lot more, just close your eyes and go for it. One of the best handy smartphones ever and in great discount given by flipkart in big billion days 🔥', 'I switch to ios from android after 10 years so this review might help for migrators\\n\\nIt’s been a month using the iPhone13 and this was my experience\\n\\n1. Design - its simple and no nonsense design . Expect white and pink rest of the colours are fingerprint magnets. I have seen all the colours and I highly recommend the pink . It’s so light pink which makes it not girlish. See it for yourself it really looks so premium in light pink colour.\\n\\nFor rest of it except white the aluminium frame wil...\\nREAD MORE', \"Amazing beast....\\nAs expected , didn't disappoint me,\\nHad to sell hard chunk of kidneys to get it !!;p\\nCamera quality is definitely a super upgrade\\nBattery is super.. easily last throughout the day with heavy usage.\\nLight weight looks stylish what else you need??\\nStarlight color just wow!!!\\nApple it would have been better if you should have given an adaptor. Increase 2k price and give it in box!!!\\nSimple ....\\nEdit 1 : After 14 days of usage highly satisfied with battery performance, Last thr...\\nREAD MORE\", 'Picture quality is amazing you do not need to think twice about buying this for performance and photos, just go for it. Bionic A 15 is super fast and it has amazing performance,\\nIt is specially good for gaming although battery backup is not that good if you are a heavy user,\\nBut if you are a light or medium user it will give you battery backup of whole day in one charge.', 'Just upgraded from 11 to iPhone 13 ..cinematic mode video awesome camera awesome display awesome\\nLooks A1 battery life is also good.\\nNew filter mode in camera added', 'Awesome camera\\nAmazing battery life\\nSuper xdr display is 💕👌🏻\\nPlaying games and day to day task are smooth\\nFace ID is superb\\niOS 15 is really awesome 🤩 thanks to Apple', 'Just love it ❤️\\nCamera is good\\nNight mode is killer\\nPerformance and display is best\\nFace id is very fast\\nLooks very premium in hand\\nJust go for it without thinking too much !', 'Performance very good\\nDisplay very good\\nBattery good\\nLook very good', 'Very impressed with this order.. i phone 13 best in class , awsm camera quality, fastest in speed,\\nVery happy with my product', 'I upgraded to 13 from xs and my experience with this had been extraordinary . The user interface and the camera is too good .Just in love with this extraordinary device .I just shared some photos clicked from this phone so that everyone can have an idea about how good the camera is compared all other flagship devices . The lens inside the device is so efficient that it automatically reduces the noise in the picture making it very crisp and clear .', 'Awesome battery backup amazing camera, a all day batter backup improved and brilliant IOs 16.1 oled display dolby speakers and lot more, just close your eyes and go for it. One of the best handy smartphones ever and in great discount given by flipkart in big billion days 🔥', 'I switch to ios from android after 10 years so this review might help for migrators\\n\\nIt’s been a month using the iPhone13 and this was my experience\\n\\n1. Design - its simple and no nonsense design . Expect white and pink rest of the colours are fingerprint magnets. I have seen all the colours and I highly recommend the pink . It’s so light pink which makes it not girlish. See it for yourself it really looks so premium in light pink colour.\\n\\nFor rest of it except white the aluminium frame wil...\\nREAD MORE', \"Amazing beast....\\nAs expected , didn't disappoint me,\\nHad to sell hard chunk of kidneys to get it !!;p\\nCamera quality is definitely a super upgrade\\nBattery is super.. easily last throughout the day with heavy usage.\\nLight weight looks stylish what else you need??\\nStarlight color just wow!!!\\nApple it would have been better if you should have given an adaptor. Increase 2k price and give it in box!!!\\nSimple ....\\nEdit 1 : After 14 days of usage highly satisfied with battery performance, Last thr...\\nREAD MORE\", 'Picture quality is amazing you do not need to think twice about buying this for performance and photos, just go for it. Bionic A 15 is super fast and it has amazing performance,\\nIt is specially good for gaming although battery backup is not that good if you are a heavy user,\\nBut if you are a light or medium user it will give you battery backup of whole day in one charge.', 'Just upgraded from 11 to iPhone 13 ..cinematic mode video awesome camera awesome display awesome\\nLooks A1 battery life is also good.\\nNew filter mode in camera added', 'Awesome camera\\nAmazing battery life\\nSuper xdr display is 💕👌🏻\\nPlaying games and day to day task are smooth\\nFace ID is superb\\niOS 15 is really awesome 🤩 thanks to Apple', 'Just love it ❤️\\nCamera is good\\nNight mode is killer\\nPerformance and display is best\\nFace id is very fast\\nLooks very premium in hand\\nJust go for it without thinking too much !', 'Performance very good\\nDisplay very good\\nBattery good\\nLook very good', 'Very impressed with this order.. i phone 13 best in class , awsm camera quality, fastest in speed,\\nVery happy with my product', 'I upgraded to 13 from xs and my experience with this had been extraordinary . The user interface and the camera is too good .Just in love with this extraordinary device .I just shared some photos clicked from this phone so that everyone can have an idea about how good the camera is compared all other flagship devices . The lens inside the device is so efficient that it automatically reduces the noise in the picture making it very crisp and clear .', 'Awesome battery backup amazing camera, a all day batter backup improved and brilliant IOs 16.1 oled display dolby speakers and lot more, just close your eyes and go for it. One of the best handy smartphones ever and in great discount given by flipkart in big billion days 🔥', 'I switch to ios from android after 10 years so this review might help for migrators\\n\\nIt’s been a month using the iPhone13 and this was my experience\\n\\n1. Design - its simple and no nonsense design . Expect white and pink rest of the colours are fingerprint magnets. I have seen all the colours and I highly recommend the pink . It’s so light pink which makes it not girlish. See it for yourself it really looks so premium in light pink colour.\\n\\nFor rest of it except white the aluminium frame wil...\\nREAD MORE', \"Amazing beast....\\nAs expected , didn't disappoint me,\\nHad to sell hard chunk of kidneys to get it !!;p\\nCamera quality is definitely a super upgrade\\nBattery is super.. easily last throughout the day with heavy usage.\\nLight weight looks stylish what else you need??\\nStarlight color just wow!!!\\nApple it would have been better if you should have given an adaptor. Increase 2k price and give it in box!!!\\nSimple ....\\nEdit 1 : After 14 days of usage highly satisfied with battery performance, Last thr...\\nREAD MORE\", 'Picture quality is amazing you do not need to think twice about buying this for performance and photos, just go for it. Bionic A 15 is super fast and it has amazing performance,\\nIt is specially good for gaming although battery backup is not that good if you are a heavy user,\\nBut if you are a light or medium user it will give you battery backup of whole day in one charge.', 'Just upgraded from 11 to iPhone 13 ..cinematic mode video awesome camera awesome display awesome\\nLooks A1 battery life is also good.\\nNew filter mode in camera added', 'Awesome camera\\nAmazing battery life\\nSuper xdr display is 💕👌🏻\\nPlaying games and day to day task are smooth\\nFace ID is superb\\niOS 15 is really awesome 🤩 thanks to Apple', 'Just love it ❤️\\nCamera is good\\nNight mode is killer\\nPerformance and display is best\\nFace id is very fast\\nLooks very premium in hand\\nJust go for it without thinking too much !', 'Performance very good\\nDisplay very good\\nBattery good\\nLook very good', 'Very impressed with this order.. i phone 13 best in class , awsm camera quality, fastest in speed,\\nVery happy with my product', 'I upgraded to 13 from xs and my experience with this had been extraordinary . The user interface and the camera is too good .Just in love with this extraordinary device .I just shared some photos clicked from this phone so that everyone can have an idea about how good the camera is compared all other flagship devices . The lens inside the device is so efficient that it automatically reduces the noise in the picture making it very crisp and clear .', 'Awesome battery backup amazing camera, a all day batter backup improved and brilliant IOs 16.1 oled display dolby speakers and lot more, just close your eyes and go for it. One of the best handy smartphones ever and in great discount given by flipkart in big billion days 🔥', 'I switch to ios from android after 10 years so this review might help for migrators\\n\\nIt’s been a month using the iPhone13 and this was my experience\\n\\n1. Design - its simple and no nonsense design . Expect white and pink rest of the colours are fingerprint magnets. I have seen all the colours and I highly recommend the pink . It’s so light pink which makes it not girlish. See it for yourself it really looks so premium in light pink colour.\\n\\nFor rest of it except white the aluminium frame wil...\\nREAD MORE', \"Amazing beast....\\nAs expected , didn't disappoint me,\\nHad to sell hard chunk of kidneys to get it !!;p\\nCamera quality is definitely a super upgrade\\nBattery is super.. easily last throughout the day with heavy usage.\\nLight weight looks stylish what else you need??\\nStarlight color just wow!!!\\nApple it would have been better if you should have given an adaptor. Increase 2k price and give it in box!!!\\nSimple ....\\nEdit 1 : After 14 days of usage highly satisfied with battery performance, Last thr...\\nREAD MORE\", 'Picture quality is amazing you do not need to think twice about buying this for performance and photos, just go for it. Bionic A 15 is super fast and it has amazing performance,\\nIt is specially good for gaming although battery backup is not that good if you are a heavy user,\\nBut if you are a light or medium user it will give you battery backup of whole day in one charge.', 'Just upgraded from 11 to iPhone 13 ..cinematic mode video awesome camera awesome display awesome\\nLooks A1 battery life is also good.\\nNew filter mode in camera added', 'Awesome camera\\nAmazing battery life\\nSuper xdr display is 💕👌🏻\\nPlaying games and day to day task are smooth\\nFace ID is superb\\niOS 15 is really awesome 🤩 thanks to Apple', 'Just love it ❤️\\nCamera is good\\nNight mode is killer\\nPerformance and display is best\\nFace id is very fast\\nLooks very premium in hand\\nJust go for it without thinking too much !', 'Performance very good\\nDisplay very good\\nBattery good\\nLook very good', 'Very impressed with this order.. i phone 13 best in class , awsm camera quality, fastest in speed,\\nVery happy with my product', 'I upgraded to 13 from xs and my experience with this had been extraordinary . The user interface and the camera is too good .Just in love with this extraordinary device .I just shared some photos clicked from this phone so that everyone can have an idea about how good the camera is compared all other flagship devices . The lens inside the device is so efficient that it automatically reduces the noise in the picture making it very crisp and clear .', 'Awesome battery backup amazing camera, a all day batter backup improved and brilliant IOs 16.1 oled display dolby speakers and lot more, just close your eyes and go for it. One of the best handy smartphones ever and in great discount given by flipkart in big billion days 🔥', 'I switch to ios from android after 10 years so this review might help for migrators\\n\\nIt’s been a month using the iPhone13 and this was my experience\\n\\n1. Design - its simple and no nonsense design . Expect white and pink rest of the colours are fingerprint magnets. I have seen all the colours and I highly recommend the pink . It’s so light pink which makes it not girlish. See it for yourself it really looks so premium in light pink colour.\\n\\nFor rest of it except white the aluminium frame wil...\\nREAD MORE', \"Amazing beast....\\nAs expected , didn't disappoint me,\\nHad to sell hard chunk of kidneys to get it !!;p\\nCamera quality is definitely a super upgrade\\nBattery is super.. easily last throughout the day with heavy usage.\\nLight weight looks stylish what else you need??\\nStarlight color just wow!!!\\nApple it would have been better if you should have given an adaptor. Increase 2k price and give it in box!!!\\nSimple ....\\nEdit 1 : After 14 days of usage highly satisfied with battery performance, Last thr...\\nREAD MORE\", 'Picture quality is amazing you do not need to think twice about buying this for performance and photos, just go for it. Bionic A 15 is super fast and it has amazing performance,\\nIt is specially good for gaming although battery backup is not that good if you are a heavy user,\\nBut if you are a light or medium user it will give you battery backup of whole day in one charge.', 'Just upgraded from 11 to iPhone 13 ..cinematic mode video awesome camera awesome display awesome\\nLooks A1 battery life is also good.\\nNew filter mode in camera added', 'Awesome camera\\nAmazing battery life\\nSuper xdr display is 💕👌🏻\\nPlaying games and day to day task are smooth\\nFace ID is superb\\niOS 15 is really awesome 🤩 thanks to Apple', 'Just love it ❤️\\nCamera is good\\nNight mode is killer\\nPerformance and display is best\\nFace id is very fast\\nLooks very premium in hand\\nJust go for it without thinking too much !', 'Performance very good\\nDisplay very good\\nBattery good\\nLook very good', 'Very impressed with this order.. i phone 13 best in class , awsm camera quality, fastest in speed,\\nVery happy with my product', 'I upgraded to 13 from xs and my experience with this had been extraordinary . The user interface and the camera is too good .Just in love with this extraordinary device .I just shared some photos clicked from this phone so that everyone can have an idea about how good the camera is compared all other flagship devices . The lens inside the device is so efficient that it automatically reduces the noise in the picture making it very crisp and clear .', 'Awesome battery backup amazing camera, a all day batter backup improved and brilliant IOs 16.1 oled display dolby speakers and lot more, just close your eyes and go for it. One of the best handy smartphones ever and in great discount given by flipkart in big billion days 🔥', 'I switch to ios from android after 10 years so this review might help for migrators\\n\\nIt’s been a month using the iPhone13 and this was my experience\\n\\n1. Design - its simple and no nonsense design . Expect white and pink rest of the colours are fingerprint magnets. I have seen all the colours and I highly recommend the pink . It’s so light pink which makes it not girlish. See it for yourself it really looks so premium in light pink colour.\\n\\nFor rest of it except white the aluminium frame wil...\\nREAD MORE', \"Amazing beast....\\nAs expected , didn't disappoint me,\\nHad to sell hard chunk of kidneys to get it !!;p\\nCamera quality is definitely a super upgrade\\nBattery is super.. easily last throughout the day with heavy usage.\\nLight weight looks stylish what else you need??\\nStarlight color just wow!!!\\nApple it would have been better if you should have given an adaptor. Increase 2k price and give it in box!!!\\nSimple ....\\nEdit 1 : After 14 days of usage highly satisfied with battery performance, Last thr...\\nREAD MORE\", 'Picture quality is amazing you do not need to think twice about buying this for performance and photos, just go for it. Bionic A 15 is super fast and it has amazing performance,\\nIt is specially good for gaming although battery backup is not that good if you are a heavy user,\\nBut if you are a light or medium user it will give you battery backup of whole day in one charge.', 'Just upgraded from 11 to iPhone 13 ..cinematic mode video awesome camera awesome display awesome\\nLooks A1 battery life is also good.\\nNew filter mode in camera added', 'Awesome camera\\nAmazing battery life\\nSuper xdr display is 💕👌🏻\\nPlaying games and day to day task are smooth\\nFace ID is superb\\niOS 15 is really awesome 🤩 thanks to Apple', 'Just love it ❤️\\nCamera is good\\nNight mode is killer\\nPerformance and display is best\\nFace id is very fast\\nLooks very premium in hand\\nJust go for it without thinking too much !', 'Performance very good\\nDisplay very good\\nBattery good\\nLook very good', 'Very impressed with this order.. i phone 13 best in class , awsm camera quality, fastest in speed,\\nVery happy with my product', 'I upgraded to 13 from xs and my experience with this had been extraordinary . The user interface and the camera is too good .Just in love with this extraordinary device .I just shared some photos clicked from this phone so that everyone can have an idea about how good the camera is compared all other flagship devices . The lens inside the device is so efficient that it automatically reduces the noise in the picture making it very crisp and clear .', 'Awesome battery backup amazing camera, a all day batter backup improved and brilliant IOs 16.1 oled display dolby speakers and lot more, just close your eyes and go for it. One of the best handy smartphones ever and in great discount given by flipkart in big billion days 🔥', 'I switch to ios from android after 10 years so this review might help for migrators\\n\\nIt’s been a month using the iPhone13 and this was my experience\\n\\n1. Design - its simple and no nonsense design . Expect white and pink rest of the colours are fingerprint magnets. I have seen all the colours and I highly recommend the pink . It’s so light pink which makes it not girlish. See it for yourself it really looks so premium in light pink colour.\\n\\nFor rest of it except white the aluminium frame wil...\\nREAD MORE', \"Amazing beast....\\nAs expected , didn't disappoint me,\\nHad to sell hard chunk of kidneys to get it !!;p\\nCamera quality is definitely a super upgrade\\nBattery is super.. easily last throughout the day with heavy usage.\\nLight weight looks stylish what else you need??\\nStarlight color just wow!!!\\nApple it would have been better if you should have given an adaptor. Increase 2k price and give it in box!!!\\nSimple ....\\nEdit 1 : After 14 days of usage highly satisfied with battery performance, Last thr...\\nREAD MORE\", 'Picture quality is amazing you do not need to think twice about buying this for performance and photos, just go for it. Bionic A 15 is super fast and it has amazing performance,\\nIt is specially good for gaming although battery backup is not that good if you are a heavy user,\\nBut if you are a light or medium user it will give you battery backup of whole day in one charge.', 'Just upgraded from 11 to iPhone 13 ..cinematic mode video awesome camera awesome display awesome\\nLooks A1 battery life is also good.\\nNew filter mode in camera added', 'Awesome camera\\nAmazing battery life\\nSuper xdr display is 💕👌🏻\\nPlaying games and day to day task are smooth\\nFace ID is superb\\niOS 15 is really awesome 🤩 thanks to Apple', 'Just love it ❤️\\nCamera is good\\nNight mode is killer\\nPerformance and display is best\\nFace id is very fast\\nLooks very premium in hand\\nJust go for it without thinking too much !', 'Performance very good\\nDisplay very good\\nBattery good\\nLook very good', 'Very impressed with this order.. i phone 13 best in class , awsm camera quality, fastest in speed,\\nVery happy with my product', 'I upgraded to 13 from xs and my experience with this had been extraordinary . The user interface and the camera is too good .Just in love with this extraordinary device .I just shared some photos clicked from this phone so that everyone can have an idea about how good the camera is compared all other flagship devices . The lens inside the device is so efficient that it automatically reduces the noise in the picture making it very crisp and clear .', 'Awesome battery backup amazing camera, a all day batter backup improved and brilliant IOs 16.1 oled display dolby speakers and lot more, just close your eyes and go for it. One of the best handy smartphones ever and in great discount given by flipkart in big billion days 🔥', 'I switch to ios from android after 10 years so this review might help for migrators\\n\\nIt’s been a month using the iPhone13 and this was my experience\\n\\n1. Design - its simple and no nonsense design . Expect white and pink rest of the colours are fingerprint magnets. I have seen all the colours and I highly recommend the pink . It’s so light pink which makes it not girlish. See it for yourself it really looks so premium in light pink colour.\\n\\nFor rest of it except white the aluminium frame wil...\\nREAD MORE', \"Amazing beast....\\nAs expected , didn't disappoint me,\\nHad to sell hard chunk of kidneys to get it !!;p\\nCamera quality is definitely a super upgrade\\nBattery is super.. easily last throughout the day with heavy usage.\\nLight weight looks stylish what else you need??\\nStarlight color just wow!!!\\nApple it would have been better if you should have given an adaptor. Increase 2k price and give it in box!!!\\nSimple ....\\nEdit 1 : After 14 days of usage highly satisfied with battery performance, Last thr...\\nREAD MORE\", 'Picture quality is amazing you do not need to think twice about buying this for performance and photos, just go for it. Bionic A 15 is super fast and it has amazing performance,\\nIt is specially good for gaming although battery backup is not that good if you are a heavy user,\\nBut if you are a light or medium user it will give you battery backup of whole day in one charge.', 'Just upgraded from 11 to iPhone 13 ..cinematic mode video awesome camera awesome display awesome\\nLooks A1 battery life is also good.\\nNew filter mode in camera added', 'Awesome camera\\nAmazing battery life\\nSuper xdr display is 💕👌🏻\\nPlaying games and day to day task are smooth\\nFace ID is superb\\niOS 15 is really awesome 🤩 thanks to Apple', 'Just love it ❤️\\nCamera is good\\nNight mode is killer\\nPerformance and display is best\\nFace id is very fast\\nLooks very premium in hand\\nJust go for it without thinking too much !', 'Performance very good\\nDisplay very good\\nBattery good\\nLook very good', 'Very impressed with this order.. i phone 13 best in class , awsm camera quality, fastest in speed,\\nVery happy with my product']\n"
     ]
    }
   ],
   "source": [
    "print(reviews)"
   ]
  },
  {
   "cell_type": "code",
   "execution_count": 343,
   "id": "121e9fb4",
   "metadata": {},
   "outputs": [],
   "source": [
    "#We can use this step,instead of these 2 stages in above.****EASIER WAY*****\n",
    "s=0\n",
    "e=15\n",
    "for a in range(s,e):\n",
    "    rat=driver.find_elements(By.XPATH,'//p[@class=\"_2-N8zT\"]')\n",
    "    rev=driver.find_elements(By.XPATH,'//div[@class=\"t-ZTKy\"]')\n",
    "    for i in rat:\n",
    "        rate=i.text\n",
    "        ratings.append(rate)\n",
    "        if len(ratings)==100:\n",
    "            break\n",
    "    for i in rev:\n",
    "        revi=i.text\n",
    "        reviews.append(revi)\n",
    "        if len(reviews)==100:\n",
    "            break\n",
    "    if len(ratings)==100:\n",
    "            break \n",
    "    next_button=driver.find_element(By.XPATH,'//a[@class=\"_1LKTO3\"]')\n",
    "    next_button.click()\n",
    "    time.sleep(3)         "
   ]
  },
  {
   "cell_type": "code",
   "execution_count": 344,
   "id": "5f8bb073",
   "metadata": {},
   "outputs": [
    {
     "data": {
      "text/html": [
       "<div>\n",
       "<style scoped>\n",
       "    .dataframe tbody tr th:only-of-type {\n",
       "        vertical-align: middle;\n",
       "    }\n",
       "\n",
       "    .dataframe tbody tr th {\n",
       "        vertical-align: top;\n",
       "    }\n",
       "\n",
       "    .dataframe thead th {\n",
       "        text-align: right;\n",
       "    }\n",
       "</style>\n",
       "<table border=\"1\" class=\"dataframe\">\n",
       "  <thead>\n",
       "    <tr style=\"text-align: right;\">\n",
       "      <th></th>\n",
       "      <th>Ratings</th>\n",
       "      <th>Reviews</th>\n",
       "    </tr>\n",
       "  </thead>\n",
       "  <tbody>\n",
       "    <tr>\n",
       "      <th>0</th>\n",
       "      <td>Excellent</td>\n",
       "      <td>I upgraded to 13 from xs and my experience wit...</td>\n",
       "    </tr>\n",
       "    <tr>\n",
       "      <th>1</th>\n",
       "      <td>Perfect product!</td>\n",
       "      <td>Awesome battery backup amazing camera, a all d...</td>\n",
       "    </tr>\n",
       "    <tr>\n",
       "      <th>2</th>\n",
       "      <td>Brilliant</td>\n",
       "      <td>I switch to ios from android after 10 years so...</td>\n",
       "    </tr>\n",
       "    <tr>\n",
       "      <th>3</th>\n",
       "      <td>Fabulous!</td>\n",
       "      <td>Amazing beast....\\nAs expected , didn't disapp...</td>\n",
       "    </tr>\n",
       "    <tr>\n",
       "      <th>4</th>\n",
       "      <td>Fabulous!</td>\n",
       "      <td>Picture quality is amazing you do not need to ...</td>\n",
       "    </tr>\n",
       "    <tr>\n",
       "      <th>...</th>\n",
       "      <td>...</td>\n",
       "      <td>...</td>\n",
       "    </tr>\n",
       "    <tr>\n",
       "      <th>95</th>\n",
       "      <td>Must buy!</td>\n",
       "      <td>Got my first iPhone ever. This is a great phon...</td>\n",
       "    </tr>\n",
       "    <tr>\n",
       "      <th>96</th>\n",
       "      <td>Classy product</td>\n",
       "      <td>First of all, this is a nice switch from Andro...</td>\n",
       "    </tr>\n",
       "    <tr>\n",
       "      <th>97</th>\n",
       "      <td>Excellent</td>\n",
       "      <td>It's a new iPhone! It's faster than the last o...</td>\n",
       "    </tr>\n",
       "    <tr>\n",
       "      <th>98</th>\n",
       "      <td>Classy product</td>\n",
       "      <td>The most premium feeling I ever had while hold...</td>\n",
       "    </tr>\n",
       "    <tr>\n",
       "      <th>99</th>\n",
       "      <td>Fabulous!</td>\n",
       "      <td>Reviewing after almost 1month of usage. Excell...</td>\n",
       "    </tr>\n",
       "  </tbody>\n",
       "</table>\n",
       "<p>100 rows × 2 columns</p>\n",
       "</div>"
      ],
      "text/plain": [
       "             Ratings                                            Reviews\n",
       "0          Excellent  I upgraded to 13 from xs and my experience wit...\n",
       "1   Perfect product!  Awesome battery backup amazing camera, a all d...\n",
       "2          Brilliant  I switch to ios from android after 10 years so...\n",
       "3          Fabulous!  Amazing beast....\\nAs expected , didn't disapp...\n",
       "4          Fabulous!  Picture quality is amazing you do not need to ...\n",
       "..               ...                                                ...\n",
       "95         Must buy!  Got my first iPhone ever. This is a great phon...\n",
       "96    Classy product  First of all, this is a nice switch from Andro...\n",
       "97         Excellent  It's a new iPhone! It's faster than the last o...\n",
       "98    Classy product  The most premium feeling I ever had while hold...\n",
       "99         Fabulous!  Reviewing after almost 1month of usage. Excell...\n",
       "\n",
       "[100 rows x 2 columns]"
      ]
     },
     "execution_count": 344,
     "metadata": {},
     "output_type": "execute_result"
    }
   ],
   "source": [
    "dfex=pd.DataFrame({\"Ratings\":ratings,\"Reviews\":reviews})\n",
    "dfex"
   ]
  },
  {
   "cell_type": "markdown",
   "id": "2de58e38",
   "metadata": {},
   "source": [
    "# Question-6"
   ]
  },
  {
   "cell_type": "code",
   "execution_count": 351,
   "id": "4d439a28",
   "metadata": {},
   "outputs": [],
   "source": [
    "chromeoptions = webdriver.ChromeOptions()\n",
    "#chromeoptions.add_argument(\"--incognito\")\n",
    "driver = webdriver.Chrome(chrome_options =chromeoptions  )\n",
    "driver.get('https://www.flipkart.com/')\n",
    "driver.maximize_window()"
   ]
  },
  {
   "cell_type": "code",
   "execution_count": 352,
   "id": "36723fb0",
   "metadata": {},
   "outputs": [],
   "source": [
    "driver.find_element(By.XPATH,'/html/body/div[2]/div/div/button').click()"
   ]
  },
  {
   "cell_type": "code",
   "execution_count": 353,
   "id": "1a756fa0",
   "metadata": {},
   "outputs": [],
   "source": [
    "search='Sneakers'\n",
    "driver.find_element(By.XPATH,'//input[@class=\"_3704LK\"]').send_keys(search)"
   ]
  },
  {
   "cell_type": "code",
   "execution_count": 354,
   "id": "795b35dd",
   "metadata": {},
   "outputs": [],
   "source": [
    "driver.find_element(By.XPATH,'/html/body/div[1]/div/div[1]/div[1]/div[2]/div[2]/form/div/button').click()"
   ]
  },
  {
   "cell_type": "code",
   "execution_count": 355,
   "id": "b8a5910a",
   "metadata": {},
   "outputs": [],
   "source": [
    "brands=[]\n",
    "description=[]\n",
    "prices=[]"
   ]
  },
  {
   "cell_type": "code",
   "execution_count": 356,
   "id": "a74cca87",
   "metadata": {},
   "outputs": [],
   "source": [
    "start=0\n",
    "end=3\n",
    "for a in range(start,end):\n",
    "    br=driver.find_elements(By.XPATH,'//div[@class=\"_2WkVRV\"]')\n",
    "    pr=driver.find_elements(By.XPATH,'//div[@class=\"_30jeq3\"]')\n",
    "    des=driver.find_elements(By.XPATH,'//a[@class=\"IRpwTa\"]')\n",
    "#print(br.text)\n",
    "    for i in br:\n",
    "        bra=i.text\n",
    "        brands.append(bra)\n",
    "    #print(len(brands))\n",
    "        if len(brands)==100:\n",
    "            break\n",
    "    for i in pr:\n",
    "        pri=i.text\n",
    "        prices.append(pri)\n",
    "        if len(prices)==100:\n",
    "            break\n",
    "    for i in des:\n",
    "        des=i.text\n",
    "        description.append(des)\n",
    "        if len(description)==100:\n",
    "            break\n",
    "    if len(brands)==100:\n",
    "        break\n",
    "    next_button=driver.find_element(By.XPATH,'//a[@class=\"_1LKTO3\"]')\n",
    "    next_button.click()\n",
    "    time.sleep(3)"
   ]
  },
  {
   "cell_type": "code",
   "execution_count": 357,
   "id": "c273e620",
   "metadata": {},
   "outputs": [
    {
     "name": "stdout",
     "output_type": "stream",
     "text": [
      "100 100 100\n"
     ]
    }
   ],
   "source": [
    "print(len(brands),len(prices),len(description))"
   ]
  },
  {
   "cell_type": "code",
   "execution_count": 358,
   "id": "c50d5784",
   "metadata": {},
   "outputs": [
    {
     "data": {
      "text/html": [
       "<div>\n",
       "<style scoped>\n",
       "    .dataframe tbody tr th:only-of-type {\n",
       "        vertical-align: middle;\n",
       "    }\n",
       "\n",
       "    .dataframe tbody tr th {\n",
       "        vertical-align: top;\n",
       "    }\n",
       "\n",
       "    .dataframe thead th {\n",
       "        text-align: right;\n",
       "    }\n",
       "</style>\n",
       "<table border=\"1\" class=\"dataframe\">\n",
       "  <thead>\n",
       "    <tr style=\"text-align: right;\">\n",
       "      <th></th>\n",
       "      <th>Brands</th>\n",
       "      <th>Prices</th>\n",
       "      <th>Product Description</th>\n",
       "    </tr>\n",
       "  </thead>\n",
       "  <tbody>\n",
       "    <tr>\n",
       "      <th>0</th>\n",
       "      <td>RapidBox</td>\n",
       "      <td>₹571</td>\n",
       "      <td>Sneakers For Men</td>\n",
       "    </tr>\n",
       "    <tr>\n",
       "      <th>1</th>\n",
       "      <td>BIRDE</td>\n",
       "      <td>₹499</td>\n",
       "      <td>Combo Pack of 2 Casual Shoes Sneakers For Men</td>\n",
       "    </tr>\n",
       "    <tr>\n",
       "      <th>2</th>\n",
       "      <td>SFR</td>\n",
       "      <td>₹249</td>\n",
       "      <td>Sneakers For Men</td>\n",
       "    </tr>\n",
       "    <tr>\n",
       "      <th>3</th>\n",
       "      <td>aadi</td>\n",
       "      <td>₹299</td>\n",
       "      <td>Synthetic Leather |Lightweight|Comfort|Summer|...</td>\n",
       "    </tr>\n",
       "    <tr>\n",
       "      <th>4</th>\n",
       "      <td>SFR</td>\n",
       "      <td>₹243</td>\n",
       "      <td>Sneakers For Men</td>\n",
       "    </tr>\n",
       "    <tr>\n",
       "      <th>...</th>\n",
       "      <td>...</td>\n",
       "      <td>...</td>\n",
       "      <td>...</td>\n",
       "    </tr>\n",
       "    <tr>\n",
       "      <th>95</th>\n",
       "      <td>Brothers Gift</td>\n",
       "      <td>₹526</td>\n",
       "      <td>Sneakers For Women</td>\n",
       "    </tr>\n",
       "    <tr>\n",
       "      <th>96</th>\n",
       "      <td>Layasa</td>\n",
       "      <td>₹299</td>\n",
       "      <td>Men Urban Street Athleisure Shoe Sneakers For Men</td>\n",
       "    </tr>\n",
       "    <tr>\n",
       "      <th>97</th>\n",
       "      <td>HRX by Hrithik Roshan</td>\n",
       "      <td>₹1,271</td>\n",
       "      <td>SM-671 Sneakers For Men</td>\n",
       "    </tr>\n",
       "    <tr>\n",
       "      <th>98</th>\n",
       "      <td>Sparx</td>\n",
       "      <td>₹824</td>\n",
       "      <td>Sneakers For Women</td>\n",
       "    </tr>\n",
       "    <tr>\n",
       "      <th>99</th>\n",
       "      <td>VZAZZY</td>\n",
       "      <td>₹589</td>\n",
       "      <td>Synthetic| Lightweight| Premiun| Comfort| Summ...</td>\n",
       "    </tr>\n",
       "  </tbody>\n",
       "</table>\n",
       "<p>100 rows × 3 columns</p>\n",
       "</div>"
      ],
      "text/plain": [
       "                   Brands  Prices  \\\n",
       "0                RapidBox    ₹571   \n",
       "1                   BIRDE    ₹499   \n",
       "2                     SFR    ₹249   \n",
       "3                    aadi    ₹299   \n",
       "4                     SFR    ₹243   \n",
       "..                    ...     ...   \n",
       "95          Brothers Gift    ₹526   \n",
       "96                 Layasa    ₹299   \n",
       "97  HRX by Hrithik Roshan  ₹1,271   \n",
       "98                  Sparx    ₹824   \n",
       "99                 VZAZZY    ₹589   \n",
       "\n",
       "                                  Product Description  \n",
       "0                                    Sneakers For Men  \n",
       "1       Combo Pack of 2 Casual Shoes Sneakers For Men  \n",
       "2                                    Sneakers For Men  \n",
       "3   Synthetic Leather |Lightweight|Comfort|Summer|...  \n",
       "4                                    Sneakers For Men  \n",
       "..                                                ...  \n",
       "95                                 Sneakers For Women  \n",
       "96  Men Urban Street Athleisure Shoe Sneakers For Men  \n",
       "97                            SM-671 Sneakers For Men  \n",
       "98                                 Sneakers For Women  \n",
       "99  Synthetic| Lightweight| Premiun| Comfort| Summ...  \n",
       "\n",
       "[100 rows x 3 columns]"
      ]
     },
     "execution_count": 358,
     "metadata": {},
     "output_type": "execute_result"
    }
   ],
   "source": [
    "df6new=pd.DataFrame({\"Brands\":brands,\"Prices\":prices,\"Product Description\":description})\n",
    "df6new"
   ]
  },
  {
   "cell_type": "markdown",
   "id": "8be14c41",
   "metadata": {},
   "source": [
    "# The code above solved all problem."
   ]
  },
  {
   "cell_type": "markdown",
   "id": "d32f5282",
   "metadata": {},
   "source": [
    "# Question-7"
   ]
  },
  {
   "cell_type": "code",
   "execution_count": 380,
   "id": "74c45a42",
   "metadata": {},
   "outputs": [],
   "source": [
    "chromeoptions = webdriver.ChromeOptions()\n",
    "#chromeoptions.add_argument(\"--incognito\")\n",
    "driver = webdriver.Chrome(chrome_options =chromeoptions  )\n",
    "driver.get('https://www.amazon.in/')\n",
    "driver.maximize_window()"
   ]
  },
  {
   "cell_type": "code",
   "execution_count": 381,
   "id": "75d438f1",
   "metadata": {},
   "outputs": [],
   "source": [
    "search='Laptop'\n",
    "driver.find_element(By.XPATH,'//input[@class=\"nav-input nav-progressive-attribute\"]').send_keys(search)"
   ]
  },
  {
   "cell_type": "code",
   "execution_count": 383,
   "id": "92dde0d1",
   "metadata": {},
   "outputs": [],
   "source": [
    "driver.find_element(By.XPATH,'/html/body/div[1]/header/div/div[1]/div[2]/div/form/div[3]/div/span/input').click()"
   ]
  },
  {
   "cell_type": "code",
   "execution_count": 384,
   "id": "ea5291da",
   "metadata": {},
   "outputs": [],
   "source": [
    "driver.find_element(By.XPATH,'/html/body/div[1]/div[2]/div[1]/div[2]/div/div[3]/span/div[1]/div/div/div[6]/ul[7]/li[9]/span/a/div/label/i').click()"
   ]
  },
  {
   "cell_type": "code",
   "execution_count": 385,
   "id": "ff79f2f9",
   "metadata": {},
   "outputs": [],
   "source": [
    "titles7=[]\n",
    "ratings7=[]\n",
    "prices7=[]"
   ]
  },
  {
   "cell_type": "code",
   "execution_count": 391,
   "id": "a3e51795",
   "metadata": {},
   "outputs": [],
   "source": [
    "start=0\n",
    "end=10\n",
    "for a in range(start,end):\n",
    "    title=driver.find_elements(By.XPATH,'//h2[@class=\"a-size-mini a-spacing-none a-color-base s-line-clamp-2\"]')\n",
    "    rating=driver.find_elements(By.XPATH,'//span[@class=\"a-size-base\"]')\n",
    "    price=driver.find_elements(By.XPATH,'//span[@class=\"a-price-whole\"]')\n",
    "#print(br.text)\n",
    "    for i in title:\n",
    "        if len(titles7)==100:\n",
    "            break\n",
    "        else:    \n",
    "            bra=i.text\n",
    "            titles7.append(bra)\n",
    "    #print(len(brands))\n",
    "    for i in rating:        \n",
    "        if len(ratings7)==100:\n",
    "            break\n",
    "        else:\n",
    "            rat=i.text\n",
    "            ratings7.append(rat)\n",
    "        \n",
    "    for i in price:\n",
    "        if len(prices7)==100:\n",
    "            break\n",
    "        else:\n",
    "            pir=i.text\n",
    "            prices7.append(pir)\n",
    "         \n",
    "    if len(prices7)==100:\n",
    "        break\n",
    "next_button=driver.find_element(By.XPATH,'//a[@class=\"s-pagination-item s-pagination-next s-pagination-button s-pagination-separator\"]')\n",
    "next_button.click()\n",
    "time.sleep(3)"
   ]
  },
  {
   "cell_type": "code",
   "execution_count": 392,
   "id": "12cbe608",
   "metadata": {},
   "outputs": [
    {
     "name": "stdout",
     "output_type": "stream",
     "text": [
      "100 100 100\n"
     ]
    }
   ],
   "source": [
    "print(len(titles7),len(prices7),len(ratings7))"
   ]
  },
  {
   "cell_type": "code",
   "execution_count": 395,
   "id": "093eca4e",
   "metadata": {},
   "outputs": [
    {
     "data": {
      "text/html": [
       "<div>\n",
       "<style scoped>\n",
       "    .dataframe tbody tr th:only-of-type {\n",
       "        vertical-align: middle;\n",
       "    }\n",
       "\n",
       "    .dataframe tbody tr th {\n",
       "        vertical-align: top;\n",
       "    }\n",
       "\n",
       "    .dataframe thead th {\n",
       "        text-align: right;\n",
       "    }\n",
       "</style>\n",
       "<table border=\"1\" class=\"dataframe\">\n",
       "  <thead>\n",
       "    <tr style=\"text-align: right;\">\n",
       "      <th></th>\n",
       "      <th>Titles</th>\n",
       "      <th>Prices</th>\n",
       "      <th>Ratings</th>\n",
       "    </tr>\n",
       "  </thead>\n",
       "  <tbody>\n",
       "    <tr>\n",
       "      <th>0</th>\n",
       "      <td>ASUS Vivobook 14, Intel Core i7-1165G7 11th Ge...</td>\n",
       "      <td>56,990</td>\n",
       "      <td>4.1</td>\n",
       "    </tr>\n",
       "    <tr>\n",
       "      <th>1</th>\n",
       "      <td>(Renewed) HP ProBook 430 G3 6th Gen Intel Core...</td>\n",
       "      <td>45,592</td>\n",
       "      <td>3.4</td>\n",
       "    </tr>\n",
       "    <tr>\n",
       "      <th>2</th>\n",
       "      <td>HP Pavilion Plus, 12th Gen Intel Core i7 16GB ...</td>\n",
       "      <td>24,900</td>\n",
       "      <td>4.0</td>\n",
       "    </tr>\n",
       "    <tr>\n",
       "      <th>3</th>\n",
       "      <td>Lenovo ThinkPad P14s Mobile Workstation 11th G...</td>\n",
       "      <td>95,990</td>\n",
       "      <td>5.0</td>\n",
       "    </tr>\n",
       "    <tr>\n",
       "      <th>4</th>\n",
       "      <td>(Renewed) Dell Latitude E7470 Intel Core i7 6t...</td>\n",
       "      <td>1,03,990</td>\n",
       "      <td>4.0</td>\n",
       "    </tr>\n",
       "    <tr>\n",
       "      <th>...</th>\n",
       "      <td>...</td>\n",
       "      <td>...</td>\n",
       "      <td>...</td>\n",
       "    </tr>\n",
       "    <tr>\n",
       "      <th>95</th>\n",
       "      <td>ASUS Zenbook 17 Fold OLED, Intel EVO Core i7 1...</td>\n",
       "      <td>1,67,990</td>\n",
       "      <td>2.0</td>\n",
       "    </tr>\n",
       "    <tr>\n",
       "      <th>96</th>\n",
       "      <td>(Renewed) Dell Latitude E7240 4th Gen Intel Co...</td>\n",
       "      <td>36,999</td>\n",
       "      <td>3.7</td>\n",
       "    </tr>\n",
       "    <tr>\n",
       "      <th>97</th>\n",
       "      <td>Samsung Galaxy Book2 Pro Intel 12th Gen i7 Evo...</td>\n",
       "      <td>31,990</td>\n",
       "      <td>3.1</td>\n",
       "    </tr>\n",
       "    <tr>\n",
       "      <th>98</th>\n",
       "      <td>GIGABYTE AERO 5 KE4 Laptop, 15.6\" UHD OLED 60H...</td>\n",
       "      <td>3,29,990</td>\n",
       "      <td>4.2</td>\n",
       "    </tr>\n",
       "    <tr>\n",
       "      <th>99</th>\n",
       "      <td>HP Pavilion 11th Gen Intel Core i7 15.6 inches...</td>\n",
       "      <td>22,982</td>\n",
       "      <td>4.0</td>\n",
       "    </tr>\n",
       "  </tbody>\n",
       "</table>\n",
       "<p>100 rows × 3 columns</p>\n",
       "</div>"
      ],
      "text/plain": [
       "                                               Titles    Prices Ratings\n",
       "0   ASUS Vivobook 14, Intel Core i7-1165G7 11th Ge...    56,990     4.1\n",
       "1   (Renewed) HP ProBook 430 G3 6th Gen Intel Core...    45,592     3.4\n",
       "2   HP Pavilion Plus, 12th Gen Intel Core i7 16GB ...    24,900     4.0\n",
       "3   Lenovo ThinkPad P14s Mobile Workstation 11th G...    95,990     5.0\n",
       "4   (Renewed) Dell Latitude E7470 Intel Core i7 6t...  1,03,990     4.0\n",
       "..                                                ...       ...     ...\n",
       "95  ASUS Zenbook 17 Fold OLED, Intel EVO Core i7 1...  1,67,990     2.0\n",
       "96  (Renewed) Dell Latitude E7240 4th Gen Intel Co...    36,999     3.7\n",
       "97  Samsung Galaxy Book2 Pro Intel 12th Gen i7 Evo...    31,990     3.1\n",
       "98  GIGABYTE AERO 5 KE4 Laptop, 15.6\" UHD OLED 60H...  3,29,990     4.2\n",
       "99  HP Pavilion 11th Gen Intel Core i7 15.6 inches...    22,982     4.0\n",
       "\n",
       "[100 rows x 3 columns]"
      ]
     },
     "execution_count": 395,
     "metadata": {},
     "output_type": "execute_result"
    }
   ],
   "source": [
    "df7=pd.DataFrame({\"Titles\":titles7,\"Prices\":prices7,\"Ratings\":ratings7})\n",
    "df7"
   ]
  }
 ],
 "metadata": {
  "kernelspec": {
   "display_name": "Python 3 (ipykernel)",
   "language": "python",
   "name": "python3"
  },
  "language_info": {
   "codemirror_mode": {
    "name": "ipython",
    "version": 3
   },
   "file_extension": ".py",
   "mimetype": "text/x-python",
   "name": "python",
   "nbconvert_exporter": "python",
   "pygments_lexer": "ipython3",
   "version": "3.9.12"
  }
 },
 "nbformat": 4,
 "nbformat_minor": 5
}
